{
 "cells": [
  {
   "cell_type": "code",
   "execution_count": 1,
   "id": "c81d8638-80c7-4842-b981-4e812f1c0862",
   "metadata": {},
   "outputs": [],
   "source": [
    "import pandas as pd"
   ]
  },
  {
   "cell_type": "code",
   "execution_count": 2,
   "id": "ba36fbda-e897-4d6e-b126-da214f68eea0",
   "metadata": {},
   "outputs": [],
   "source": [
    "from bs4 import BeautifulSoup "
   ]
  },
  {
   "cell_type": "code",
   "execution_count": 3,
   "id": "1d5bb217-e937-439f-8a96-f9f0a25ff8e1",
   "metadata": {},
   "outputs": [],
   "source": [
    "import requests"
   ]
  },
  {
   "cell_type": "code",
   "execution_count": 4,
   "id": "5fb4bad8-6269-4703-b4a6-e87981c08350",
   "metadata": {},
   "outputs": [],
   "source": [
    "link = \"https://www.billboard.com/charts/hot-100/\""
   ]
  },
  {
   "cell_type": "code",
   "execution_count": 5,
   "id": "f5a0f594-45a0-469a-887a-11f791fe3078",
   "metadata": {},
   "outputs": [
    {
     "data": {
      "text/plain": [
       "200"
      ]
     },
     "execution_count": 5,
     "metadata": {},
     "output_type": "execute_result"
    }
   ],
   "source": [
    "response = requests.get(link)\n",
    "response.status_code"
   ]
  },
  {
   "cell_type": "code",
   "execution_count": 6,
   "id": "326b0ad4-afb6-4f06-9d7f-49d85e9246e1",
   "metadata": {},
   "outputs": [],
   "source": [
    "html = response.text"
   ]
  },
  {
   "cell_type": "code",
   "execution_count": 7,
   "id": "6f430740-dd24-4b48-880f-8e830bc9cf68",
   "metadata": {},
   "outputs": [],
   "source": [
    "soup = BeautifulSoup(html, 'html.parser')"
   ]
  },
  {
   "cell_type": "code",
   "execution_count": 8,
   "id": "357f674e-b758-4980-a2fe-b57addc8b321",
   "metadata": {},
   "outputs": [
    {
     "data": {
      "text/plain": [
       "'Billboard Hot 100™'"
      ]
     },
     "execution_count": 8,
     "metadata": {},
     "output_type": "execute_result"
    }
   ],
   "source": [
    "soup.title.string"
   ]
  },
  {
   "cell_type": "code",
   "execution_count": 9,
   "id": "ae7e4e35-3b95-4d09-bdcb-6ad4aa2b0ca2",
   "metadata": {},
   "outputs": [
    {
     "name": "stdout",
     "output_type": "stream",
     "text": [
      "Shaboozey\n",
      "Post Malone Featuring Morgan Wallen\n",
      "Sabrina Carpenter\n",
      "Chappell Roan\n",
      "Lady Gaga & Bruno Mars\n",
      "Billie Eilish\n",
      "Teddy Swims\n",
      "Sabrina Carpenter\n",
      "Sabrina Carpenter\n",
      "Kendrick Lamar\n",
      "Benson Boone\n",
      "Tommy Richman\n",
      "Hozier\n",
      "The Weeknd\n",
      "Playboi Carti\n",
      "Luke Combs\n",
      "Chappell Roan\n",
      "Marshmello & Kane Brown\n",
      "Morgan Wallen\n",
      "Tate McRae\n",
      "Sabrina Carpenter\n",
      "Morgan Wallen Featuring ERNEST\n",
      "Zach Bryan\n",
      "Dasha\n",
      "Jelly Roll\n",
      "Taylor Swift\n",
      "Jordan Adetunji\n",
      "Teddy Swims\n",
      "Chappell Roan\n",
      "Jimin\n",
      "SZA\n",
      "Zach Bryan\n",
      "GloRilla\n",
      "Future, Metro Boomin & Kendrick Lamar\n",
      "Post Malone Featuring Blake Shelton\n",
      "Benson Boone\n",
      "Karol G\n",
      "Noah Kahan\n",
      "Ella Langley Featuring Riley Green\n",
      "Myles Smith\n",
      "Post Malone Featuring Luke Combs\n",
      "Linkin Park\n",
      "GloRilla & Megan Thee Stallion\n",
      "Sabrina Carpenter\n",
      "Koe Wetzel & Jessie Murph\n",
      "Gigi Perez\n",
      "Hanumankind X Kalmi\n",
      "Billie Eilish\n",
      "Charli xcx\n",
      "Megan Thee Stallion Featuring Yuki Chiba\n",
      "Peso Pluma & Neton Vega\n",
      "Gracie Abrams\n",
      "Eminem\n",
      "Chappell Roan\n",
      "Real Boston Richey\n",
      "Charli xcx Featuring Billie Eilish\n",
      "Gunna\n",
      "Dustin Lynch Featuring Jelly Roll\n",
      "Chappell Roan\n",
      "Moneybagg Yo Featuring Morgan Wallen\n",
      "Rod Wave\n",
      "Sabrina Carpenter\n",
      "The Kid LAROI\n",
      "mgk & Jelly Roll\n",
      "Tucker Wetmore\n",
      "Drake\n",
      "Luis R Conriquez x Neton Vega\n",
      "Luke Bryan\n",
      "Chris Stapleton\n",
      "Fuerza Regida\n",
      "Megan Moroney\n",
      "Charli xcx\n",
      "Sabrina Carpenter\n",
      "Charli xcx Featuring Troye Sivan\n",
      "Teddy Swims\n",
      "Sabrina Carpenter\n",
      "Ariana Grande\n",
      "Tito Double P & Peso Pluma\n",
      "Megan Thee Stallion & RM\n",
      "Post Malone Featuring Jelly Roll\n",
      "Addison Rae\n",
      "BossMan DLow\n",
      "Billie Eilish\n",
      "Mark Ambor\n",
      "Chris Brown\n",
      "Central Cee & Lil Baby\n",
      "Thomas Rhett\n",
      "Drake\n",
      "Chappell Roan\n",
      "21 Savage & Summer Walker\n",
      "Eminem & JID\n",
      "Gracie Abrams\n",
      "Billie Eilish\n",
      "Sabrina Carpenter\n",
      "Zach Top\n",
      "Sexyy Red & Drake\n",
      "Chappell Roan\n",
      "Tinashe\n",
      "Mustard & Travis Scott\n",
      "Riley Green\n"
     ]
    }
   ],
   "source": [
    "artists = []\n",
    "\n",
    "for element in soup.find_all(\"ul\", {\"class\": \"o-chart-results-list-row\"}):\n",
    "    for artist in element.find_all(\"span\", \"a-font-primary-s\"):\n",
    "        artist_strip = artist.get_text(strip=True)\n",
    "        artists.append(artist_strip)\n",
    "        print(artist_strip)"
   ]
  },
  {
   "cell_type": "code",
   "execution_count": 10,
   "id": "9eb1438b-753d-43ce-887e-2c6d08771b8e",
   "metadata": {},
   "outputs": [
    {
     "name": "stdout",
     "output_type": "stream",
     "text": [
      "['Shaboozey', 'Post Malone Featuring Morgan Wallen', 'Sabrina Carpenter', 'Chappell Roan', 'Lady Gaga & Bruno Mars', 'Billie Eilish', 'Teddy Swims', 'Sabrina Carpenter', 'Sabrina Carpenter', 'Kendrick Lamar', 'Benson Boone', 'Tommy Richman', 'Hozier', 'The Weeknd', 'Playboi Carti', 'Luke Combs', 'Chappell Roan', 'Marshmello & Kane Brown', 'Morgan Wallen', 'Tate McRae', 'Sabrina Carpenter', 'Morgan Wallen Featuring ERNEST', 'Zach Bryan', 'Dasha', 'Jelly Roll', 'Taylor Swift', 'Jordan Adetunji', 'Teddy Swims', 'Chappell Roan', 'Jimin', 'SZA', 'Zach Bryan', 'GloRilla', 'Future, Metro Boomin & Kendrick Lamar', 'Post Malone Featuring Blake Shelton', 'Benson Boone', 'Karol G', 'Noah Kahan', 'Ella Langley Featuring Riley Green', 'Myles Smith', 'Post Malone Featuring Luke Combs', 'Linkin Park', 'GloRilla & Megan Thee Stallion', 'Sabrina Carpenter', 'Koe Wetzel & Jessie Murph', 'Gigi Perez', 'Hanumankind X Kalmi', 'Billie Eilish', 'Charli xcx', 'Megan Thee Stallion Featuring Yuki Chiba', 'Peso Pluma & Neton Vega', 'Gracie Abrams', 'Eminem', 'Chappell Roan', 'Real Boston Richey', 'Charli xcx Featuring Billie Eilish', 'Gunna', 'Dustin Lynch Featuring Jelly Roll', 'Chappell Roan', 'Moneybagg Yo Featuring Morgan Wallen', 'Rod Wave', 'Sabrina Carpenter', 'The Kid LAROI', 'mgk & Jelly Roll', 'Tucker Wetmore', 'Drake', 'Luis R Conriquez x Neton Vega', 'Luke Bryan', 'Chris Stapleton', 'Fuerza Regida', 'Megan Moroney', 'Charli xcx', 'Sabrina Carpenter', 'Charli xcx Featuring Troye Sivan', 'Teddy Swims', 'Sabrina Carpenter', 'Ariana Grande', 'Tito Double P & Peso Pluma', 'Megan Thee Stallion & RM', 'Post Malone Featuring Jelly Roll', 'Addison Rae', 'BossMan DLow', 'Billie Eilish', 'Mark Ambor', 'Chris Brown', 'Central Cee & Lil Baby', 'Thomas Rhett', 'Drake', 'Chappell Roan', '21 Savage & Summer Walker', 'Eminem & JID', 'Gracie Abrams', 'Billie Eilish', 'Sabrina Carpenter', 'Zach Top', 'Sexyy Red & Drake', 'Chappell Roan', 'Tinashe', 'Mustard & Travis Scott', 'Riley Green']\n"
     ]
    }
   ],
   "source": [
    "print(artists)"
   ]
  },
  {
   "cell_type": "code",
   "execution_count": 11,
   "id": "53392fe6-e5c8-47e7-9b84-68e4f143c128",
   "metadata": {},
   "outputs": [
    {
     "data": {
      "text/plain": [
       "100"
      ]
     },
     "execution_count": 11,
     "metadata": {},
     "output_type": "execute_result"
    }
   ],
   "source": [
    "len(artists)"
   ]
  },
  {
   "cell_type": "code",
   "execution_count": 12,
   "id": "4018fb51-17f2-42b7-b5e7-e0a3ba1bb152",
   "metadata": {},
   "outputs": [
    {
     "name": "stdout",
     "output_type": "stream",
     "text": [
      "A Bar Song (Tipsy)\n",
      "I Had Some Help\n",
      "Espresso\n",
      "Good Luck, Babe!\n",
      "Die With A Smile\n",
      "Birds Of A Feather\n",
      "Lose Control\n",
      "Taste\n",
      "Please Please Please\n",
      "Not Like Us\n",
      "Beautiful Things\n",
      "Million Dollar Baby\n",
      "Too Sweet\n",
      "Dancing In The Flames\n",
      "All Red\n",
      "Ain't No Love In Oklahoma\n",
      "Hot To Go!\n",
      "Miles On It\n",
      "Lies Lies Lies\n",
      "It's Ok I'm Ok\n",
      "Bed Chem\n",
      "Cowgirls\n",
      "Pink Skies\n",
      "Austin\n",
      "I Am Not Okay\n",
      "I Can Do It With A Broken Heart\n",
      "Kehlani\n",
      "The Door\n",
      "Pink Pony Club\n",
      "Who\n",
      "Saturn\n",
      "28\n",
      "TGIF\n",
      "Like That\n",
      "Pour Me A Drink\n",
      "Slow It Down\n",
      "Si Antes Te Hubiera Conocido\n",
      "Stick Season\n",
      "You Look Like You Love Me\n",
      "Stargazing\n",
      "Guy For That\n",
      "The Emptiness Machine\n",
      "Wanna Be\n",
      "Good Graces\n",
      "High Road\n",
      "Sailor Song\n",
      "Big Dawgs\n",
      "Wildflower\n",
      "360\n",
      "Mamushi\n",
      "La Patrulla\n",
      "I Love You, I'm Sorry\n",
      "Houdini\n",
      "Red Wine Supernova\n",
      "Help Me\n",
      "Guess\n",
      "One Of Wun\n",
      "Chevrolet\n",
      "Casual\n",
      "Whiskey Whiskey\n",
      "Passport Junkie\n",
      "Juno\n",
      "Nights Like This\n",
      "Lonely Road\n",
      "Wind Up Missin' You\n",
      "Circadian Rhythm\n",
      "Si No Quieres No\n",
      "Love You, Miss You, Mean It\n",
      "Think I'm In Love With You\n",
      "Nel\n",
      "Am I Okay?\n",
      "Apple\n",
      "Coincidence\n",
      "Talk Talk\n",
      "Bad Dreams\n",
      "Sharpest Tool\n",
      "The Boy Is Mine\n",
      "Dos Dias\n",
      "Neva Play\n",
      "Losers\n",
      "Diet Pepsi\n",
      "Shake Dat Ass (Twerk Song)\n",
      "Lunch\n",
      "Belong Together\n",
      "Residuals\n",
      "BAND4BAND\n",
      "Beautiful As You\n",
      "No Face\n",
      "Femininomenon\n",
      "Prove It\n",
      "Fuel\n",
      "Close To You\n",
      "Chihiro\n",
      "Slim Pickins\n",
      "I Never Lie\n",
      "U My Everything\n",
      "My Kink Is Karma\n",
      "Nasty\n",
      "Parking Lot\n",
      "Worst Way\n"
     ]
    }
   ],
   "source": [
    "titles = []\n",
    "\n",
    "for element in soup.find_all(\"ul\", {\"class\": \"o-chart-results-list-row\"}):\n",
    "    for title in element.find_all(\"h3\", {\"id\": \"title-of-a-story\"}):\n",
    "        title_strip = title.get_text(strip=True)\n",
    "        titles.append(title_strip)\n",
    "        print(title_strip)"
   ]
  },
  {
   "cell_type": "code",
   "execution_count": 13,
   "id": "32dc71c5-e797-44c1-9f64-4f9f94acd669",
   "metadata": {},
   "outputs": [
    {
     "name": "stdout",
     "output_type": "stream",
     "text": [
      "['A Bar Song (Tipsy)', 'I Had Some Help', 'Espresso', 'Good Luck, Babe!', 'Die With A Smile', 'Birds Of A Feather', 'Lose Control', 'Taste', 'Please Please Please', 'Not Like Us', 'Beautiful Things', 'Million Dollar Baby', 'Too Sweet', 'Dancing In The Flames', 'All Red', \"Ain't No Love In Oklahoma\", 'Hot To Go!', 'Miles On It', 'Lies Lies Lies', \"It's Ok I'm Ok\", 'Bed Chem', 'Cowgirls', 'Pink Skies', 'Austin', 'I Am Not Okay', 'I Can Do It With A Broken Heart', 'Kehlani', 'The Door', 'Pink Pony Club', 'Who', 'Saturn', '28', 'TGIF', 'Like That', 'Pour Me A Drink', 'Slow It Down', 'Si Antes Te Hubiera Conocido', 'Stick Season', 'You Look Like You Love Me', 'Stargazing', 'Guy For That', 'The Emptiness Machine', 'Wanna Be', 'Good Graces', 'High Road', 'Sailor Song', 'Big Dawgs', 'Wildflower', '360', 'Mamushi', 'La Patrulla', \"I Love You, I'm Sorry\", 'Houdini', 'Red Wine Supernova', 'Help Me', 'Guess', 'One Of Wun', 'Chevrolet', 'Casual', 'Whiskey Whiskey', 'Passport Junkie', 'Juno', 'Nights Like This', 'Lonely Road', \"Wind Up Missin' You\", 'Circadian Rhythm', 'Si No Quieres No', 'Love You, Miss You, Mean It', \"Think I'm In Love With You\", 'Nel', 'Am I Okay?', 'Apple', 'Coincidence', 'Talk Talk', 'Bad Dreams', 'Sharpest Tool', 'The Boy Is Mine', 'Dos Dias', 'Neva Play', 'Losers', 'Diet Pepsi', 'Shake Dat Ass (Twerk Song)', 'Lunch', 'Belong Together', 'Residuals', 'BAND4BAND', 'Beautiful As You', 'No Face', 'Femininomenon', 'Prove It', 'Fuel', 'Close To You', 'Chihiro', 'Slim Pickins', 'I Never Lie', 'U My Everything', 'My Kink Is Karma', 'Nasty', 'Parking Lot', 'Worst Way']\n"
     ]
    }
   ],
   "source": [
    "print(titles)"
   ]
  },
  {
   "cell_type": "code",
   "execution_count": 40,
   "id": "03585e11-bcbc-4d78-bb65-8cc2e420a1c8",
   "metadata": {},
   "outputs": [
    {
     "data": {
      "text/plain": [
       "100"
      ]
     },
     "execution_count": 40,
     "metadata": {},
     "output_type": "execute_result"
    }
   ],
   "source": [
    "len(titles)"
   ]
  },
  {
   "cell_type": "code",
   "execution_count": 46,
   "id": "667a42e8-98f7-4eda-b641-596c1bd30bfc",
   "metadata": {},
   "outputs": [
    {
     "name": "stdout",
     "output_type": "stream",
     "text": [
      "                                Artists              Titles\n",
      "0                             Shaboozey  A Bar Song (Tipsy)\n",
      "1   Post Malone Featuring Morgan Wallen     I Had Some Help\n",
      "2                     Sabrina Carpenter            Espresso\n",
      "3                         Chappell Roan    Good Luck, Babe!\n",
      "4                Lady Gaga & Bruno Mars    Die With A Smile\n",
      "..                                  ...                 ...\n",
      "95                    Sexyy Red & Drake     U My Everything\n",
      "96                        Chappell Roan    My Kink Is Karma\n",
      "97                              Tinashe               Nasty\n",
      "98               Mustard & Travis Scott         Parking Lot\n",
      "99                          Riley Green           Worst Way\n",
      "\n",
      "[100 rows x 2 columns]\n"
     ]
    }
   ],
   "source": [
    "artists_titles = {'Artists': artists, 'Titles': titles}\n",
    "billboard = pd.DataFrame(artists_titles)\n",
    "\n",
    "print(billboard)"
   ]
  }
 ],
 "metadata": {
  "kernelspec": {
   "display_name": "Python 3 (ipykernel)",
   "language": "python",
   "name": "python3"
  },
  "language_info": {
   "codemirror_mode": {
    "name": "ipython",
    "version": 3
   },
   "file_extension": ".py",
   "mimetype": "text/x-python",
   "name": "python",
   "nbconvert_exporter": "python",
   "pygments_lexer": "ipython3",
   "version": "3.11.7"
  }
 },
 "nbformat": 4,
 "nbformat_minor": 5
}
